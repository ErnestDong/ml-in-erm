{
 "cells": [
  {
   "cell_type": "markdown",
   "metadata": {},
   "source": [
    "# 机器学习在企业风险管理中的应用举例\n",
    "\n",
    "## 准备工作\n",
    "\n",
    "### 读取数据并引入我们需要用到的包\n",
    "\n",
    "我们重点是去了解机器学习，因而我对于数据背后的经济原理和风险因素并不是非常关注，每个符号代表什么详见 [笔记](https://ernestdong.github.io/posts/machine_learning_in_erm/)\n",
    "```shell\n",
    "pip install -r requirements.txt\n",
    "```\n",
    "\n",
    "有 Nvidia GPU 的同学可以参考 [pytorch 官网](https://pytorch.org/) 利用 cuda 加速神经网络（通常能有10来倍吧），CPU 在神经网络部分稍慢一些不过也可以实现"
   ]
  },
  {
   "cell_type": "code",
   "execution_count": 2,
   "metadata": {},
   "outputs": [
    {
     "name": "stdout",
     "output_type": "stream",
     "text": [
      "<class 'pandas.core.frame.DataFrame'>\n",
      "RangeIndex: 2029 entries, 0 to 2028\n",
      "Data columns (total 31 columns):\n",
      " #   Column                              Non-Null Count  Dtype  \n",
      "---  ------                              --------------  -----  \n",
      " 0   Rating                              2029 non-null   object \n",
      " 1   Name                                2029 non-null   object \n",
      " 2   Symbol                              2029 non-null   object \n",
      " 3   Rating Agency Name                  2029 non-null   object \n",
      " 4   Date                                2029 non-null   object \n",
      " 5   Sector                              2029 non-null   object \n",
      " 6   currentRatio                        2029 non-null   float64\n",
      " 7   quickRatio                          2029 non-null   float64\n",
      " 8   cashRatio                           2029 non-null   float64\n",
      " 9   daysOfSalesOutstanding              2029 non-null   float64\n",
      " 10  netProfitMargin                     2029 non-null   float64\n",
      " 11  pretaxProfitMargin                  2029 non-null   float64\n",
      " 12  grossProfitMargin                   2029 non-null   float64\n",
      " 13  operatingProfitMargin               2029 non-null   float64\n",
      " 14  returnOnAssets                      2029 non-null   float64\n",
      " 15  returnOnCapitalEmployed             2029 non-null   float64\n",
      " 16  returnOnEquity                      2029 non-null   float64\n",
      " 17  assetTurnover                       2029 non-null   float64\n",
      " 18  fixedAssetTurnover                  2029 non-null   float64\n",
      " 19  debtEquityRatio                     2029 non-null   float64\n",
      " 20  debtRatio                           2029 non-null   float64\n",
      " 21  effectiveTaxRate                    2029 non-null   float64\n",
      " 22  freeCashFlowOperatingCashFlowRatio  2029 non-null   float64\n",
      " 23  freeCashFlowPerShare                2029 non-null   float64\n",
      " 24  cashPerShare                        2029 non-null   float64\n",
      " 25  companyEquityMultiplier             2029 non-null   float64\n",
      " 26  ebitPerRevenue                      2029 non-null   float64\n",
      " 27  enterpriseValueMultiple             2029 non-null   float64\n",
      " 28  operatingCashFlowPerShare           2029 non-null   float64\n",
      " 29  operatingCashFlowSalesRatio         2029 non-null   float64\n",
      " 30  payablesTurnover                    2029 non-null   float64\n",
      "dtypes: float64(25), object(6)\n",
      "memory usage: 491.5+ KB\n"
     ]
    }
   ],
   "source": [
    "import random\n",
    "\n",
    "import matplotlib.pyplot as plt\n",
    "import numpy as np\n",
    "import pandas as pd\n",
    "import seaborn as sns\n",
    "import torch\n",
    "from scipy.stats import pearsonr\n",
    "from sklearn.ensemble import GradientBoostingClassifier, RandomForestClassifier\n",
    "from sklearn.linear_model import LogisticRegression\n",
    "from sklearn.metrics import f1_score, precision_score, recall_score\n",
    "from sklearn.model_selection import train_test_split\n",
    "from sklearn.neighbors import KNeighborsClassifier\n",
    "from sklearn.svm import SVC\n",
    "from sklearn.tree import DecisionTreeClassifier\n",
    "from torch import nn\n",
    "\n",
    "df = pd.read_csv(\"./corporate_rating.csv\", encoding=\"utf-8\")\n",
    "df.info()\n"
   ]
  },
  {
   "cell_type": "markdown",
   "metadata": {},
   "source": [
    "### 看一下评级的分布"
   ]
  },
  {
   "cell_type": "code",
   "execution_count": 3,
   "metadata": {},
   "outputs": [
    {
     "data": {
      "text/plain": [
       "<AxesSubplot:>"
      ]
     },
     "execution_count": 3,
     "metadata": {},
     "output_type": "execute_result"
    },
    {
     "data": {
      "image/png": "[encoded data removed]",
      "text/plain": [
       "<Figure size 432x288 with 1 Axes>"
      ]
     },
     "metadata": {},
     "output_type": "display_data"
    }
   ],
   "source": [
    "sns.set(\n",
    "    style=\"white\",\n",
    "    context=\"paper\",\n",
    "    rc={\"text.usetex\": True},\n",
    ")\n",
    "df[\"Rating\"].value_counts().plot(kind=\"bar\")\n"
   ]
  },
  {
   "cell_type": "markdown",
   "metadata": {},
   "source": [
    "### 其他准备\n",
    "- 设置随机数种子保证多次运行结果一致\n",
    "- 把非数字的变量转换成虚拟变量\n",
    "- 设置训练集和测试集"
   ]
  },
  {
   "cell_type": "code",
   "execution_count": 4,
   "metadata": {},
   "outputs": [
    {
     "data": {
      "text/plain": [
       "Index(['currentRatio', 'quickRatio', 'cashRatio', 'daysOfSalesOutstanding',\n",
       "       'netProfitMargin', 'pretaxProfitMargin', 'grossProfitMargin',\n",
       "       'operatingProfitMargin', 'returnOnAssets', 'returnOnCapitalEmployed',\n",
       "       'returnOnEquity', 'assetTurnover', 'fixedAssetTurnover',\n",
       "       'debtEquityRatio', 'debtRatio', 'effectiveTaxRate',\n",
       "       'freeCashFlowOperatingCashFlowRatio', 'freeCashFlowPerShare',\n",
       "       'cashPerShare', 'companyEquityMultiplier', 'ebitPerRevenue',\n",
       "       'enterpriseValueMultiple', 'operatingCashFlowPerShare',\n",
       "       'operatingCashFlowSalesRatio', 'payablesTurnover',\n",
       "       'Rating Agency Name_Egan-Jones Ratings Company',\n",
       "       'Rating Agency Name_Fitch Ratings',\n",
       "       'Rating Agency Name_Moody's Investors Service',\n",
       "       'Rating Agency Name_Standard & Poor's Ratings Services',\n",
       "       'Sector_Capital Goods', 'Sector_Consumer Durables',\n",
       "       'Sector_Consumer Non-Durables', 'Sector_Consumer Services',\n",
       "       'Sector_Energy', 'Sector_Finance', 'Sector_Health Care',\n",
       "       'Sector_Miscellaneous', 'Sector_Public Utilities', 'Sector_Technology',\n",
       "       'Sector_Transportation', 'Date_2009', 'Date_2010', 'Date_2011',\n",
       "       'Date_2012', 'Date_2013', 'Date_2014', 'Date_2015', 'Date_2016'],\n",
       "      dtype='object')"
      ]
     },
     "execution_count": 4,
     "metadata": {},
     "output_type": "execute_result"
    }
   ],
   "source": [
    "RANDOM_STATE = 42\n",
    "torch.manual_seed(RANDOM_STATE)\n",
    "Y = df[\"Rating\"]\n",
    "Y = Y.replace({\"CCC\": \"C\", \"CC\": \"C\"})\n",
    "df[\"Date\"] = df[\"Date\"].apply(lambda x: x.split(\"/\")[-1])\n",
    "dummies = [\"Rating Agency Name\", \"Sector\", \"Date\"]\n",
    "X = df[[i for i in df.columns if df[i].dtype != \"object\"]]\n",
    "for dummy in dummies:\n",
    "    X = pd.concat([X, pd.get_dummies(df[dummy], drop_first=True, prefix=dummy)], axis=1)\n",
    "Xtrain, Xtest, Ytrain, Ytest = train_test_split(\n",
    "    X, Y, test_size=0.25, random_state=RANDOM_STATE\n",
    ")\n",
    "result = {}\n",
    "X.columns\n"
   ]
  },
  {
   "cell_type": "markdown",
   "metadata": {},
   "source": [
    "### 评价指标\n",
    "\n",
    "我们用评级的准确率、召回率和 $F1$ 值作为评级是否准确的指标，也关注偏差是否特别大（用所谓的“相关系数”衡量）\n",
    "\n",
    "作为对比，如果我们训练的分类器没什么效果，那么和这里随机瞎选的评级的准确率应该差不多"
   ]
  },
  {
   "cell_type": "code",
   "execution_count": 5,
   "metadata": {},
   "outputs": [
    {
     "data": {
      "text/plain": [
       "{'precision': 0.23640721599080028,\n",
       " 'recall': 0.12547244094488194,\n",
       " 'f1': 0.1544436285781241,\n",
       " '\\\\(R^2\\\\)': 0.008907176874420717}"
      ]
     },
     "execution_count": 5,
     "metadata": {},
     "output_type": "execute_result"
    }
   ],
   "source": [
    "def get_score(Xtest, Ytrue, model):\n",
    "    Ypred = model(Xtest)\n",
    "    average = \"weighted\"\n",
    "    rating_map = {i: ord(i[0]) * 100 - len(i) for i in Y.unique()}\n",
    "    return {\n",
    "        \"precision\": precision_score(Ytrue, Ypred, average=average, zero_division=0),\n",
    "        \"recall\": recall_score(Ytrue, Ypred, average=average),\n",
    "        \"f1\": f1_score(Ytrue, Ypred, average=average),\n",
    "        \"\\(R^2\\)\": pearsonr(\n",
    "            [rating_map[i] for i in Ypred], [rating_map[i] for i in Ytest]\n",
    "        )[0],\n",
    "    }\n",
    "\n",
    "\n",
    "random.seed(RANDOM_STATE)\n",
    "ratings = Y.unique()\n",
    "tmp = {}\n",
    "monte_num = 100\n",
    "for i in range(100):\n",
    "    Ypredict = Xtest.index.map(lambda x: random.choice(ratings))\n",
    "    monte = get_score(Xtest, Ytest, lambda _: Ypredict)\n",
    "    for j in monte:\n",
    "        if j not in tmp:\n",
    "            tmp[j] = 0\n",
    "        tmp[j] += monte[j]\n",
    "result[\"random\"] = {i: tmp[i] / 100 for i in tmp}\n",
    "result[\"random\"]\n"
   ]
  },
  {
   "cell_type": "markdown",
   "metadata": {},
   "source": [
    "## `sklearn` 部分\n",
    "`sklearn` 里面的分类器语法非常简单，就是声明分类器是什么、我去训练他，比如 `ols` 模型\n",
    "\n",
    "```python\n",
    "import numpy as np\n",
    "from sklearn.linear_model import LinearRegression\n",
    "X = np.array([[1, 1], [1, 2], [2, 2], [2, 3]])\n",
    "# y = 1 * x_0 + 2 * x_1 + 3\n",
    "y = np.dot(X, np.array([1, 2])) + 3\n",
    "model = LinearRegression()\n",
    "result = model.fit(X, y) \n",
    "result.coef_ # 系数\n",
    "```\n",
    "### logit 回归"
   ]
  },
  {
   "cell_type": "code",
   "execution_count": 6,
   "metadata": {},
   "outputs": [
    {
     "name": "stderr",
     "output_type": "stream",
     "text": [
      "/Users/dcy/Code/erm/.venv/lib/python3.10/site-packages/sklearn/linear_model/_sag.py:352: ConvergenceWarning: The max_iter was reached which means the coef_ did not converge\n",
      "  warnings.warn(\n"
     ]
    },
    {
     "data": {
      "text/plain": [
       "{'precision': 0.18152641834788635,\n",
       " 'recall': 0.2440944881889764,\n",
       " 'f1': 0.15470492292394605,\n",
       " '\\\\(R^2\\\\)': -0.01775335686060572}"
      ]
     },
     "execution_count": 6,
     "metadata": {},
     "output_type": "execute_result"
    }
   ],
   "source": [
    "logit = LogisticRegression(\n",
    "    multi_class=\"multinomial\", solver=\"saga\", random_state=RANDOM_STATE\n",
    ")\n",
    "logit.fit(Xtrain, Ytrain)\n",
    "result[\"logit\"] = get_score(Xtest, Ytest, logit.predict)\n",
    "result[\"logit\"]\n"
   ]
  },
  {
   "cell_type": "markdown",
   "metadata": {},
   "source": [
    "### 决策树"
   ]
  },
  {
   "cell_type": "code",
   "execution_count": 7,
   "metadata": {},
   "outputs": [
    {
     "data": {
      "text/plain": [
       "{'precision': 0.3498883972871522,\n",
       " 'recall': 0.3799212598425197,\n",
       " 'f1': 0.3528756642882673,\n",
       " '\\\\(R^2\\\\)': 0.3632276367156315}"
      ]
     },
     "execution_count": 7,
     "metadata": {},
     "output_type": "execute_result"
    }
   ],
   "source": [
    "dt = DecisionTreeClassifier(max_depth=3, random_state=RANDOM_STATE)\n",
    "dt.fit(Xtrain, Ytrain)\n",
    "result[\"decision tree\"] = get_score(Xtest, Ytest, dt.predict)\n",
    "result[\"decision tree\"]\n"
   ]
  },
  {
   "cell_type": "markdown",
   "metadata": {},
   "source": [
    "### 集成学习\n",
    "\n",
    "#### bagging 方法的随机森林"
   ]
  },
  {
   "cell_type": "code",
   "execution_count": 8,
   "metadata": {},
   "outputs": [
    {
     "data": {
      "text/plain": [
       "{'precision': 0.39603489727136376,\n",
       " 'recall': 0.4251968503937008,\n",
       " 'f1': 0.38351839772007446,\n",
       " '\\\\(R^2\\\\)': 0.39959139741930844}"
      ]
     },
     "execution_count": 8,
     "metadata": {},
     "output_type": "execute_result"
    }
   ],
   "source": [
    "rf = RandomForestClassifier(n_estimators=100, max_depth=4, random_state=RANDOM_STATE)\n",
    "rf.fit(Xtrain, Ytrain)\n",
    "result[\"random forest\"] = get_score(Xtest, Ytest, rf.predict)\n",
    "result[\"random forest\"]\n"
   ]
  },
  {
   "cell_type": "markdown",
   "metadata": {},
   "source": [
    "### boosting 方法的梯度提升数\n",
    "最流行的应当是 `xgboost` ，但是 `sklearn` 里面没有现场的，为了教学简单我们用 `sklearn` 里面提供的 boosting 方法的模型"
   ]
  },
  {
   "cell_type": "code",
   "execution_count": 9,
   "metadata": {},
   "outputs": [
    {
     "data": {
      "text/plain": [
       "{'precision': 0.530520009176101,\n",
       " 'recall': 0.5255905511811023,\n",
       " 'f1': 0.5094674767985568,\n",
       " '\\\\(R^2\\\\)': 0.5421094375792002}"
      ]
     },
     "execution_count": 9,
     "metadata": {},
     "output_type": "execute_result"
    }
   ],
   "source": [
    "gb = GradientBoostingClassifier(random_state=RANDOM_STATE)\n",
    "\n",
    "gb.fit(Xtrain, Ytrain)\n",
    "result[\"gradient boosting\"] = get_score(Xtest, Ytest, gb.predict)\n",
    "result[\"gradient boosting\"]\n"
   ]
  },
  {
   "cell_type": "markdown",
   "metadata": {},
   "source": [
    "### 支持向量机"
   ]
  },
  {
   "cell_type": "code",
   "execution_count": 10,
   "metadata": {},
   "outputs": [
    {
     "data": {
      "text/plain": [
       "{'precision': 0.4136927083234441,\n",
       " 'recall': 0.4094488188976378,\n",
       " 'f1': 0.351708147106921,\n",
       " '\\\\(R^2\\\\)': 0.3431290118925812}"
      ]
     },
     "execution_count": 10,
     "metadata": {},
     "output_type": "execute_result"
    }
   ],
   "source": [
    "svm = SVC(kernel=\"rbf\", gamma=\"auto\", random_state=RANDOM_STATE)\n",
    "svm.fit(Xtrain, Ytrain)\n",
    "result[\"svm\"] = get_score(Xtest, Ytest, svm.predict)\n",
    "result[\"svm\"]\n"
   ]
  },
  {
   "cell_type": "markdown",
   "metadata": {},
   "source": [
    "### K 近邻"
   ]
  },
  {
   "cell_type": "code",
   "execution_count": 11,
   "metadata": {},
   "outputs": [
    {
     "data": {
      "text/plain": [
       "{'precision': 0.3625400456087721,\n",
       " 'recall': 0.35236220472440943,\n",
       " 'f1': 0.34202311550427716,\n",
       " '\\\\(R^2\\\\)': 0.29873782865224163}"
      ]
     },
     "execution_count": 11,
     "metadata": {},
     "output_type": "execute_result"
    }
   ],
   "source": [
    "KNN = KNeighborsClassifier(n_neighbors=3)\n",
    "KNN.fit(Xtrain, Ytrain)\n",
    "result[\"KNN\"] = get_score(Xtest, Ytest, KNN.predict)\n",
    "result[\"KNN\"]\n"
   ]
  },
  {
   "cell_type": "markdown",
   "metadata": {},
   "source": [
    "## 深度学习\n",
    "\n",
    "深度学习技术特点是利用神经网络， `pytorch` 是最流行的框架，稳定、简单……，只需要继承 `nn.module` 并告诉他传播是如何传播的， `pytorch` 就能帮我们自动建图求导\n",
    "\n",
    "世界上的东西总有关系，函数可以描述，但是我们不知道函数长什么样子，深度学习受到生物神经的启发，构建一层层网络，让神经网络去拟合这个函数\n",
    "### 何谓梯度下降/反向传播\n",
    "\n",
    "我们以线性回归为例子，了解一下梯度下降和误差反向传播是如何发挥作用的。\n",
    "\n",
    "梯度的定义是 $(\\frac{\\partial{f}}{\\partial{x}}i, \\frac{\\partial{f}}{\\partial{y}}j)$，沿着梯度向下最大的方向走一小步，我们离 “最优” 更近一点\n"
   ]
  },
  {
   "cell_type": "code",
   "execution_count": 12,
   "metadata": {},
   "outputs": [
    {
     "name": "stdout",
     "output_type": "stream",
     "text": [
      "0.842172384262085 0.925064742565155 86.14746856689453\n",
      "3.8227317333221436 7.568560600280762 0.058785051107406616\n",
      "3.5908191204071045 7.697818756103516 0.02992500737309456\n",
      "3.4220690727233887 7.784137725830078 0.015271582640707493\n",
      "3.301514148712158 7.845794200897217 0.00779349310323596\n",
      "3.215393543243408 7.8898396492004395 0.0039772395975887775\n",
      "3.1538708209991455 7.921304702758789 0.0020296864677220583\n",
      "3.10992169380188 7.943781852722168 0.0010358192957937717\n",
      "3.0785253047943115 7.959839344024658 0.0005286112427711487\n",
      "3.0560965538024902 7.971310138702393 0.0002697656746022403\n"
     ]
    }
   ],
   "source": [
    "x = torch.rand([500, 1])  # X 是一个 tensor ，可以把他想象成 500x1 的向量\n",
    "y_true = 3 * x + 8\n",
    "learning_rate = 0.05  # learning rate 是每次梯度下降的“步长”\n",
    "w = torch.rand([1, 1], requires_grad=True)  # 斜率 w 和截距 b 我们要 pytorch 自动求导\n",
    "b = torch.tensor(0, requires_grad=True, dtype=torch.float32)\n",
    "for i in range(500): # 迭代 500 次\n",
    "    y_pred = torch.matmul(x, w) + b  # 预测是多少\n",
    "    loss = (y_true - y_pred).pow(2).mean()  # 损失函数是平方误差\n",
    "    if w.grad is not None:  # 把上一次的计算的梯度清零，否则梯度会不断累加\n",
    "        w.grad.data.zero_()\n",
    "    if b.grad is not None:\n",
    "        b.grad.data.zero_()\n",
    "    loss.backward()  # 误差反向传播，得到 w 和 b 的梯度 w.grad 和 b.grad\n",
    "    w.data = w.data - w.grad * learning_rate  # 梯度下降找到新的 w 和 b\n",
    "    b.data = b.data - b.grad * learning_rate\n",
    "    if i % 50 == 0:\n",
    "        print(w.item(), b.item(), loss.item())\n"
   ]
  },
  {
   "cell_type": "markdown",
   "metadata": {},
   "source": [
    "### 多层感知机\n",
    "\n",
    "如果仅仅是线性函数的叠加，那么输出还是线性的。神经元受刺激必须到达阈值才会输出，模仿就是 “激活函数”\n",
    "\n",
    "一层神经元受到刺激得到一个输出，我们再让这些输出给到下一层神经元，就构建了一层神经网络"
   ]
  },
  {
   "cell_type": "code",
   "execution_count": 13,
   "metadata": {},
   "outputs": [
    {
     "data": {
      "text/plain": [
       "{'precision': 0.303540319504785,\n",
       " 'recall': 0.32677165354330706,\n",
       " 'f1': 0.29137159392116607,\n",
       " '\\\\(R^2\\\\)': 0.04632145790840677}"
      ]
     },
     "execution_count": 13,
     "metadata": {},
     "output_type": "execute_result"
    }
   ],
   "source": [
    "Ytrain_nn = pd.get_dummies(Ytrain)\n",
    "encode = Ytrain_nn.columns\n",
    "Ytrain_nn = torch.tensor(Ytrain_nn.values, dtype=torch.float32)\n",
    "Xtrain_nn = torch.tensor(Xtrain.values, dtype=torch.float32)\n",
    "\n",
    "hidden_layer = 40\n",
    "net = nn.Sequential(\n",
    "    nn.Linear(Xtrain_nn.shape[1], hidden_layer),\n",
    "    nn.ReLU(),\n",
    "    nn.Linear(hidden_layer, len(encode)),\n",
    "    nn.Softmax(dim=1),\n",
    ")\n",
    "optimizer = torch.optim.SGD(net.parameters(), lr=0.001)\n",
    "loss_func = torch.nn.MSELoss()\n",
    "\n",
    "for t in range(10000):\n",
    "    prediction = net(Xtrain_nn)\n",
    "    loss = loss_func(Ytrain_nn, prediction)\n",
    "    optimizer.zero_grad()\n",
    "    loss.backward()\n",
    "    optimizer.step()\n",
    "Xtest_nn = torch.tensor(Xtest.values, dtype=torch.float32)\n",
    "prediction = pd.DataFrame(net(Xtest_nn).detach().numpy())\n",
    "Ypredict = prediction.idxmax(axis=1).map(lambda x: encode[x])\n",
    "result[\"bp neural network\"] = get_score(Xtest, Ytest, lambda _: Ypredict)\n",
    "result[\"bp neural network\"]\n"
   ]
  },
  {
   "cell_type": "markdown",
   "metadata": {},
   "source": [
    "### 卷积神经网络\n",
    "\n",
    "反向传播的 bp 神经网络很早就被提出来了，但应用结果并不好，人工智能发展也进入了低潮期。即便人脑是如何学习的，生物学家至今仍搞不清楚。\n",
    "\n",
    "我们看一张图片，一眼扫过去不会记住每个点是什么，而是会记住大概什么位置这片区域是个什么。基于此，“卷积神经网络”应运而生。\n",
    "\n",
    "利用一个卷积核扫描过去，得到一层“特征”。多次重复后，对特征开展学习，会不会好一些？\n",
    "\n",
    "下面的代码就是利用 20 个大小为 3 的卷积核扫描，通过激活函数后“池化”（取两个相邻位置的平均值）避免过拟合，最后一层全连接层将卷积运算后的结果输出到 7 个评级上面。"
   ]
  },
  {
   "cell_type": "code",
   "execution_count": 14,
   "metadata": {},
   "outputs": [
    {
     "name": "stdout",
     "output_type": "stream",
     "text": [
      "epoch: 0 loss: 0.24474290013313293\n",
      "epoch: 1000 loss: 0.1530502289533615\n",
      "epoch: 2000 loss: 0.12052974104881287\n",
      "epoch: 3000 loss: 0.080418162047863\n",
      "epoch: 4000 loss: 0.07030057907104492\n",
      "epoch: 5000 loss: 0.06512274593114853\n",
      "epoch: 6000 loss: 0.06385868787765503\n",
      "epoch: 7000 loss: 0.062104299664497375\n",
      "epoch: 8000 loss: 0.06008351221680641\n",
      "epoch: 9000 loss: 0.059241581708192825\n"
     ]
    },
    {
     "data": {
      "text/plain": [
       "{'precision': 0.4134713364449354,\n",
       " 'recall': 0.4448818897637795,\n",
       " 'f1': 0.42277323459431704,\n",
       " '\\\\(R^2\\\\)': 0.38784786843327096}"
      ]
     },
     "execution_count": 14,
     "metadata": {},
     "output_type": "execute_result"
    }
   ],
   "source": [
    "class CNN(nn.Module):\n",
    "    def __init__(self) -> None:\n",
    "        super(CNN, self).__init__()\n",
    "        self.conv = nn.Sequential(\n",
    "            nn.Conv1d(Xtrain_nn.shape[1], 20, 3, padding=3),\n",
    "            nn.Tanh(),\n",
    "            nn.AvgPool1d(2),\n",
    "        )\n",
    "        self.fc = nn.Sequential(\n",
    "            nn.Linear(40, len(encode)),\n",
    "            nn.ReLU(),\n",
    "            nn.Softmax(dim=1),\n",
    "        )\n",
    "\n",
    "    def forward(self, x):\n",
    "        out = self.conv(x)\n",
    "        out = out.view(out.size(0), -1)\n",
    "        out = self.fc(out)\n",
    "        return out\n",
    "\n",
    "\n",
    "Xtrain_cnn = Xtrain_nn.unsqueeze(2)\n",
    "Xtest_cnn = Xtest_nn.unsqueeze(2)\n",
    "net = CNN()\n",
    "optimizer = torch.optim.Adamax(net.parameters())\n",
    "loss_func = torch.nn.L1Loss()\n",
    "epochnum = 10000\n",
    "for epoch in range(epochnum):\n",
    "    prediction = net(Xtrain_cnn)\n",
    "    loss = loss_func(Ytrain_nn, prediction)\n",
    "    optimizer.zero_grad()\n",
    "    loss.backward()\n",
    "    optimizer.step()\n",
    "    if epoch % (epochnum / 10) == 0:\n",
    "        print(\"epoch:\", epoch, \"loss:\", loss.item())\n",
    "prediction = pd.DataFrame(net(Xtest_cnn).detach().numpy())\n",
    "Ypredict = prediction.idxmax(axis=1).map(lambda x: encode[x])\n",
    "result[\"CNN\"] = get_score(Xtest, Ytest, lambda _: Ypredict)\n",
    "result[\"CNN\"]\n"
   ]
  },
  {
   "cell_type": "markdown",
   "metadata": {},
   "source": [
    "### 循环神经网络\n",
    "\n",
    "CNN 广泛运用在计算机视觉领域，但是准确率其实也一般。至于自然语言处理，卷积扫描过去只会记住附近长什么样子，缺乏长期记忆。\n",
    "\n",
    "比如 I am Chinese. I am learning enterprise risk management and machine learning. I speak Chinese. \n",
    "只记住附近的数据显然在翻译第三句话的时候对 Chinese 翻译没有用到之前的信息。\n",
    "\n",
    "RNN 则是通过权值共享解决记忆问题，不再是一层层神经网络，而是一个神经元接受输入，输出再进入到这个神经元并进行更新，如图所示。\n",
    "\n",
    "![](https://pic1.zhimg.com/80/v2-ea6d9bcb018d897518a8f076e7f9fdcc_1440w.jpg)\n",
    "\n",
    "这样的话求导（一个神经元求一次导在系数上加一次，如 $x^n$ 变 $nx^{n-1}$，循环好多好多次）很容易梯度爆炸或者梯度离散，我用传统的 RNN 拟合并没有好一些，于是采用了 RNN 加强版“长短期记忆”模型"
   ]
  },
  {
   "cell_type": "code",
   "execution_count": 15,
   "metadata": {},
   "outputs": [
    {
     "name": "stdout",
     "output_type": "stream",
     "text": [
      "epoch: 0 loss: 0.1499246209859848\n",
      "epoch: 300 loss: 0.10913613438606262\n",
      "epoch: 600 loss: 0.10899495333433151\n",
      "epoch: 900 loss: 0.10670442879199982\n",
      "epoch: 1200 loss: 0.09968437999486923\n",
      "epoch: 1500 loss: 0.09411953389644623\n",
      "epoch: 1800 loss: 0.09219742566347122\n",
      "epoch: 2100 loss: 0.08915843069553375\n",
      "epoch: 2400 loss: 0.08684989809989929\n",
      "epoch: 2700 loss: 0.0848584920167923\n"
     ]
    },
    {
     "data": {
      "text/plain": [
       "{'precision': 0.3566962345874043,\n",
       " 'recall': 0.3956692913385827,\n",
       " 'f1': 0.3712741140657571,\n",
       " '\\\\(R^2\\\\)': 0.33610605998687865}"
      ]
     },
     "execution_count": 15,
     "metadata": {},
     "output_type": "execute_result"
    }
   ],
   "source": [
    "class LSTM(nn.Module):\n",
    "    def __init__(self):\n",
    "        super(LSTM, self).__init__()\n",
    "        self.lstm = nn.LSTM(\n",
    "            input_size=1,\n",
    "            hidden_size=32,\n",
    "            num_layers=1,\n",
    "            batch_first=True,\n",
    "            bidirectional=True,\n",
    "        )\n",
    "        self.fc = nn.Linear(32 * 2, num_classes)\n",
    "\n",
    "    def forward(self, x):\n",
    "        # x, _ = x\n",
    "        out, _ = self.lstm(x)\n",
    "        out = self.fc(out[:, -1, :])\n",
    "        return out\n",
    "\n",
    "\n",
    "input_size = 1\n",
    "hidden_size = 32\n",
    "num_layers = 1\n",
    "num_classes = 7\n",
    "net = LSTM()\n",
    "optimizer = torch.optim.Adamax(net.parameters())\n",
    "loss_func = nn.MSELoss()\n",
    "epochnum = 3000\n",
    "for epoch in range(epochnum):\n",
    "    out = net(Xtrain_nn.unsqueeze(2))\n",
    "    loss = loss_func(out, Ytrain_nn)\n",
    "    optimizer.zero_grad()\n",
    "    loss.backward()\n",
    "    optimizer.step()\n",
    "    if epoch % (epochnum / 10) == 0:\n",
    "        print(\"epoch:\", epoch, \"loss:\", loss.item())\n",
    "\n",
    "prediction = pd.DataFrame(net(Xtest_nn.unsqueeze(2)).detach().numpy())\n",
    "Ypredict = prediction.idxmax(axis=1).map(lambda x: encode[x])\n",
    "result[\"RNN\"] = get_score(Xtest, Ytest, lambda _: Ypredict)\n",
    "result[\"RNN\"]\n"
   ]
  },
  {
   "cell_type": "markdown",
   "metadata": {},
   "source": [
    "## 对比\n",
    "好了，我们画个图看一下结果"
   ]
  },
  {
   "cell_type": "code",
   "execution_count": 16,
   "metadata": {},
   "outputs": [
    {
     "data": {
      "image/png": "[encoded data removed]",
      "text/plain": [
       "<Figure size 432x288 with 1 Axes>"
      ]
     },
     "metadata": {},
     "output_type": "display_data"
    }
   ],
   "source": [
    "feature = [\"precision\", \"recall\", \"f1\", \"\\(R^2\\)\"]\n",
    "[[\"model\"] + feature] + list(\n",
    "    [i[0]] + [round(j, 4) for j in i[1].values()] for i in result.items()\n",
    ")\n",
    "\n",
    "N = len(feature)\n",
    "angles = np.linspace(0, 2 * np.pi, N, endpoint=False)\n",
    "angles = np.concatenate((angles, [angles[0]]))\n",
    "fig = plt.figure()\n",
    "ax = fig.add_subplot(111, polar=True)\n",
    "for model in result:\n",
    "    values = [i for i in result[model].values()] + [result[model][\"precision\"]]\n",
    "    ax.plot(angles, values, label=model)\n",
    "    ax.fill(angles, values, alpha=0.1)\n",
    "ax.set_thetagrids(angles[:-1] * 180 / np.pi, feature)\n",
    "ax.grid(True)\n",
    "plt.legend(bbox_to_anchor=(1.2, -0.1), ncol=3)\n",
    "plt.show()\n"
   ]
  }
 ],
 "metadata": {
  "interpreter": {
   "hash": "f8ffae3d46e1dc6fc78684393007c4a9203b7b0e3647467bbdd69ad6075b7428"
  },
  "kernelspec": {
   "display_name": "Python 3.10.2 ('.venv': poetry)",
   "language": "python",
   "name": "python3"
  },
  "language_info": {
   "codemirror_mode": {
    "name": "ipython",
    "version": 3
   },
   "file_extension": ".py",
   "mimetype": "text/x-python",
   "name": "python",
   "nbconvert_exporter": "python",
   "pygments_lexer": "ipython3",
   "version": "3.10.2"
  },
  "orig_nbformat": 4
 },
 "nbformat": 4,
 "nbformat_minor": 2
}
